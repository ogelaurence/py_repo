{
 "cells": [
  {
   "cell_type": "code",
   "execution_count": null,
   "id": "8ea6a054",
   "metadata": {},
   "outputs": [],
   "source": []
  },
  {
   "cell_type": "code",
   "execution_count": 8,
   "id": "f96d86f6",
   "metadata": {},
   "outputs": [
    {
     "name": "stdout",
     "output_type": "stream",
     "text": [
      "Overwriting calc.py\n"
     ]
    }
   ],
   "source": [
    "%%writefile calc.py\n",
    "import streamlit as st\n",
    "\n",
    "st.sidebar.header(\" This is a simple calculator \")\n",
    "x = st.number_input( \" Choose first no : \")\n",
    "y = st.number_input(\" Choose second no : \")\n",
    "\n",
    "col1,col2 = st.columns(2)\n",
    "with col1 :\n",
    "    if st.button(\" Add\"):\n",
    "        z = x + y\n",
    "        st.write( f''' Answer is \\n\n",
    "                    {z} ''')\n",
    "with col2:\n",
    "    if st.button(\" Sub \"):\n",
    "        z = x- y\n",
    "        st.write(f''' Answer is \\n\n",
    "                    {z} ''')"
   ]
  },
  {
   "cell_type": "code",
   "execution_count": null,
   "id": "42826f6f",
   "metadata": {},
   "outputs": [
    {
     "name": "stdout",
     "output_type": "stream",
     "text": [
      "\u001b[0m\r\n",
      "\u001b[34m\u001b[1m  You can now view your Streamlit app in your browser.\u001b[0m\r\n",
      "\u001b[0m\r\n",
      "\u001b[34m  Local URL: \u001b[0m\u001b[1mhttp://localhost:8501\u001b[0m\r\n",
      "\u001b[34m  Network URL: \u001b[0m\u001b[1mhttp://172.20.10.7:8501\u001b[0m\r\n",
      "\u001b[0m\r\n"
     ]
    }
   ],
   "source": [
    "!streamlit run calc.py"
   ]
  },
  {
   "cell_type": "code",
   "execution_count": null,
   "id": "6fc471bc",
   "metadata": {},
   "outputs": [],
   "source": []
  }
 ],
 "metadata": {
  "kernelspec": {
   "display_name": "Python 3",
   "language": "python",
   "name": "python3"
  },
  "language_info": {
   "codemirror_mode": {
    "name": "ipython",
    "version": 3
   },
   "file_extension": ".py",
   "mimetype": "text/x-python",
   "name": "python",
   "nbconvert_exporter": "python",
   "pygments_lexer": "ipython3",
   "version": "3.8.8"
  }
 },
 "nbformat": 4,
 "nbformat_minor": 5
}
